{
 "cells": [
  {
   "cell_type": "markdown",
   "metadata": {},
   "source": [
    "#### <span style=\"color:orange\">5 kyu Snakes and Ladders</span>  \n",
    "https://www.codewars.com/kata/587136ba2eefcb92a9000027/python"
   ]
  },
  {
   "cell_type": "code",
   "execution_count": 2,
   "metadata": {},
   "outputs": [
    {
     "data": {
      "text/plain": [
       "'Player 1 is on square 38'"
      ]
     },
     "metadata": {},
     "output_type": "display_data"
    },
    {
     "data": {
      "text/plain": [
       "'Player 1 is on square 44'"
      ]
     },
     "metadata": {},
     "output_type": "display_data"
    },
    {
     "data": {
      "text/plain": [
       "'Player 2 is on square 31'"
      ]
     },
     "metadata": {},
     "output_type": "display_data"
    },
    {
     "data": {
      "text/plain": [
       "'Player 1 is on square 25'"
      ]
     },
     "metadata": {},
     "output_type": "display_data"
    }
   ],
   "source": [
    "# https://www.codewars.com/users/ssergeegress\n",
    "# it's working draft for now - some optimisation steps\n",
    "# and extension to more general form will be coming soon\n",
    "\n",
    "snakes_and_ladders = {\n",
    "    2: 38,\n",
    "    7: 14,\n",
    "    8: 31,\n",
    "    15: 26,\n",
    "    16: 6,\n",
    "    21: 42,\n",
    "    28: 84,\n",
    "    36: 44,\n",
    "    46: 25,\n",
    "    49: 11,\n",
    "    51: 67,\n",
    "    62: 19,\n",
    "    64: 60,\n",
    "    71: 91,\n",
    "    74: 53,\n",
    "    78: 98,\n",
    "    87: 94,\n",
    "    89: 68,\n",
    "    92: 88,\n",
    "    95: 75,\n",
    "    99: 80\n",
    "}\n",
    "\n",
    "\n",
    "class SnakesLadders():\n",
    "\n",
    "    def __init__(self):\n",
    "        self.player_1 = [0]\n",
    "        self.player_2 = [0]\n",
    "        self.players = [self.player_1, self.player_2]\n",
    "        self.snakes_and_ladders = snakes_and_ladders\n",
    "\n",
    "    def play(self, die1, die2):\n",
    "        self.die1, self.die2 = die1, die2\n",
    "        if self.players[0] is self.player_1:\n",
    "            self.n = '1'\n",
    "        elif self.players[0] is self.player_2:\n",
    "            self.n = '2'\n",
    "        self.player = sum((self.players[0][0], self.die1, self.die2))\n",
    "        self.players[0][0] = self._snakes_and_ladders(self._be_hundred())\n",
    "        if self.players[1][0] == 100:\n",
    "            return 'Game over!'\n",
    "        elif self.players[0][0] == 100:\n",
    "            self._rotate()\n",
    "            return f'Player {self.n} Wins!'\n",
    "        if not self.die1 == self.die2:\n",
    "            self._rotate()\n",
    "        return f'Player {self.n} is on square {self.player}'\n",
    "\n",
    "    def _snakes_and_ladders(self, player):\n",
    "        self.player = self.snakes_and_ladders.get(player, player)\n",
    "        return self.player\n",
    "\n",
    "    def _be_hundred(self):\n",
    "        self.player = self.player > 100 and 200 - sum(\n",
    "            (self.players[0][0], self.die1, self.die2)) or self.player\n",
    "        return self.player\n",
    "\n",
    "    def _rotate(self):\n",
    "        self.players = self.players[-1:] + self.players[:-1]\n",
    "        return self.players\n",
    "\n",
    "\n",
    "game = SnakesLadders()\n",
    "\n",
    "display(game.play(1, 1))  # \"Player 1 is on square 38\"\n",
    "display(game.play(1, 5))  # \"Player 1 is on square 44\"\n",
    "display(game.play(6, 2))  # \"Player 2 is on square 31\"\n",
    "display(game.play(1, 1))  # \"Player 1 is on square 25\"\n"
   ]
  },
  {
   "cell_type": "markdown",
   "metadata": {},
   "source": [
    "#### <span style=\"color:orange\">6 kyu Maze Runner</span>  \n",
    "https://www.codewars.com/kata/58663693b359c4a6560001d6/python"
   ]
  },
  {
   "cell_type": "code",
   "execution_count": 3,
   "metadata": {},
   "outputs": [
    {
     "data": {
      "text/plain": [
       "'Finish'"
      ]
     },
     "metadata": {},
     "output_type": "display_data"
    },
    {
     "data": {
      "text/plain": [
       "'Finish'"
      ]
     },
     "metadata": {},
     "output_type": "display_data"
    },
    {
     "data": {
      "text/plain": [
       "'Finish'"
      ]
     },
     "metadata": {},
     "output_type": "display_data"
    },
    {
     "data": {
      "text/plain": [
       "'Dead'"
      ]
     },
     "metadata": {},
     "output_type": "display_data"
    },
    {
     "data": {
      "text/plain": [
       "'Dead'"
      ]
     },
     "metadata": {},
     "output_type": "display_data"
    },
    {
     "data": {
      "text/plain": [
       "'Lost'"
      ]
     },
     "metadata": {},
     "output_type": "display_data"
    },
    {
     "data": {
      "text/plain": [
       "'Dead'"
      ]
     },
     "metadata": {},
     "output_type": "display_data"
    }
   ],
   "source": [
    "# https://www.codewars.com/users/ssergeegress\n",
    "\n",
    "maze = [[1,1,1,1,1,1,1],\n",
    "        [1,0,0,0,0,0,3],\n",
    "        [1,0,1,0,1,0,1],\n",
    "        [0,0,1,0,0,0,1],\n",
    "        [1,0,1,0,1,0,1],\n",
    "        [1,0,0,0,0,0,1],\n",
    "        [1,2,1,0,1,0,1]]\n",
    "\n",
    "\n",
    "def maze_runner(maze, directions):\n",
    "    point = [[x, i, j] for i, sub in enumerate(maze)\n",
    "             for j, x in enumerate(sub) if x == 2][0]\n",
    "    # print(point)  # uncomment to track the route  \n",
    "    for step in directions:\n",
    "        try:\n",
    "            match step:\n",
    "                case 'N':\n",
    "                    point[1] -= 1 \n",
    "                case 'S':\n",
    "                    point[1] += 1\n",
    "                case 'W':\n",
    "                    point[2] -= 1\n",
    "                case 'E':\n",
    "                    point[2] += 1\n",
    "            if min(point[1:]) < 0:\n",
    "                return 'Dead'                \n",
    "            point[0] = maze[point[1]][point[2]]\n",
    "            # print(point)  # uncomment to track the route          \n",
    "            match point[0]:\n",
    "                case 3:\n",
    "                    return 'Finish'\n",
    "                case 1:\n",
    "                    return 'Dead'\n",
    "        except IndexError:\n",
    "            return 'Dead'\n",
    "    return 'Lost'\n",
    "\n",
    "\n",
    "display(maze_runner(\n",
    "    maze, [\"N\", \"N\", \"N\", \"N\", \"N\", \"E\", \"E\", \"E\", \"E\", \"E\"]))  # \"Finish\"\n",
    "display(\n",
    "    maze_runner(\n",
    "        maze,\n",
    "        [\"N\", \"N\", \"N\", \"N\", \"N\", \"E\", \"E\", \"S\", \"S\", \"E\", \"E\", \"N\", \"N\", \"E\"\n",
    "         ]))  # \"Finish\"\n",
    "display(\n",
    "    maze_runner(maze,\n",
    "                [\"N\", \"N\", \"N\", \"N\", \"N\", \"E\", \"E\", \"E\", \"E\", \"E\", \"W\", \"W\"\n",
    "                 ]))  # \"Finish\"\n",
    "display(maze_runner(maze, [\"N\", \"N\", \"N\", \"W\", \"W\"]))  # \"Dead\"\n",
    "display(\n",
    "    maze_runner(\n",
    "        maze,\n",
    "        [\"N\", \"N\", \"N\", \"N\", \"N\", \"E\", \"E\", \"S\", \"S\", \"S\", \"S\", \"S\", \"S\"\n",
    "         ]))  # \"Dead\"\n",
    "display(maze_runner(maze, [\"N\", \"E\", \"E\", \"E\", \"E\"]))  # \"Lost\"\n",
    "# An alter maze and route map with negative index\n",
    "display(maze_runner([[0, 0, 0, 1, 1],\n",
    "                     [2, 0, 1, 0, 3],\n",
    "                     [0, 1, 0, 0, 1],\n",
    "                     [1, 0, 0, 1, 0],\n",
    "                     [0, 1, 0, 0, 1]], [\n",
    "                         'W', 'E', 'W', 'S', 'E', 'S', 'S', 'S', 'E', 'S', \\\n",
    "                            'W', 'N', 'N', 'N', 'S', 'N', 'S', 'E', 'E', 'S', \\\n",
    "                                'S', 'S', 'S', 'W', 'E', 'E', 'N', 'E', 'E', 'N', \\\n",
    "                                    'N', 'N', 'W', 'N', 'W', 'N', 'E', 'N']))  # \"Dead\"\n"
   ]
  }
 ],
 "metadata": {
  "kernelspec": {
   "display_name": "PythExp",
   "language": "python",
   "name": "python3"
  },
  "language_info": {
   "codemirror_mode": {
    "name": "ipython",
    "version": 3
   },
   "file_extension": ".py",
   "mimetype": "text/x-python",
   "name": "python",
   "nbconvert_exporter": "python",
   "pygments_lexer": "ipython3",
   "version": "3.10.10"
  }
 },
 "nbformat": 4,
 "nbformat_minor": 2
}
